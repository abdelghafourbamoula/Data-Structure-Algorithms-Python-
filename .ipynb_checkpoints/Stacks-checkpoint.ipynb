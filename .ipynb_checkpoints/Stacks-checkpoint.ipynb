{
 "cells": [
  {
   "cell_type": "markdown",
   "id": "b4c041e1",
   "metadata": {},
   "source": [
    "<center><h1>Stacks</h1></center>\n",
    "\n",
    "A stack is a simple data structure that adds and removes elements in a particular order.\n",
    "Every time an element is added, it goes on the **\"top\"** of the stack. Only an element at the top of the stack can be removed, just like a stack of plates. This behavior is called **LIFO** (Last In, First Out). \n",
    "<br>\n",
    "\n",
    "**Applications :**\n",
    "Stacks can be used to create undo-redo functionalities, parsing expressions (infix to postfix/prefix conversion), and much more."
   ]
  },
  {
   "cell_type": "markdown",
   "id": "2d87806a",
   "metadata": {},
   "source": [
    "<center>\n",
    "    <img src=\"images/stack1.png\" width=\"60%\"/>\n",
    "    <br>\n",
    "    <img src=\"images/stack2.png\" width=\"60%\"/>    \n",
    " </center>"
   ]
  },
  {
   "cell_type": "markdown",
   "id": "244a77d3",
   "metadata": {},
   "source": [
    "<hr>\n",
    "\n",
    "## Stack using python list"
   ]
  },
  {
   "cell_type": "code",
   "execution_count": 2,
   "id": "a41f32d3",
   "metadata": {},
   "outputs": [
    {
     "data": {
      "text/plain": [
       "[5, 15, 45, 7]"
      ]
     },
     "execution_count": 2,
     "metadata": {},
     "output_type": "execute_result"
    }
   ],
   "source": [
    "my_stack = list()\n",
    "my_stack.append(5)\n",
    "my_stack.append(15)\n",
    "my_stack.append(45)\n",
    "my_stack.append(7)\n",
    "my_stack"
   ]
  },
  {
   "cell_type": "code",
   "execution_count": 3,
   "id": "196bcfa7",
   "metadata": {},
   "outputs": [
    {
     "name": "stdout",
     "output_type": "stream",
     "text": [
      "7\n",
      "45\n"
     ]
    },
    {
     "data": {
      "text/plain": [
       "[5, 15]"
      ]
     },
     "execution_count": 3,
     "metadata": {},
     "output_type": "execute_result"
    }
   ],
   "source": [
    "print(my_stack.pop())\n",
    "print(my_stack.pop())\n",
    "my_stack"
   ]
  },
  {
   "cell_type": "markdown",
   "id": "41d55716",
   "metadata": {},
   "source": [
    "## Stack using Class"
   ]
  },
  {
   "cell_type": "code",
   "execution_count": 36,
   "id": "7893c267",
   "metadata": {},
   "outputs": [],
   "source": [
    "class Stack:\n",
    "    \n",
    "    def __init__(self):\n",
    "        self.items = []\n",
    "        \n",
    "    def __str__(self):\n",
    "        return str(self.items)\n",
    "    \n",
    "    def is_empty(self):\n",
    "        return self.items == []\n",
    "    \n",
    "    def push(self, item):\n",
    "        self.items.append(item)\n",
    "        \n",
    "    def pop(self):\n",
    "        return self.items.pop() if not self.is_empty() else None\n",
    "        \n",
    "    def peek(self):\n",
    "        return self.items[-1] if not self.is_empty() else None\n",
    "    \n",
    "    def clear(self):\n",
    "        self.items.clear()"
   ]
  },
  {
   "cell_type": "code",
   "execution_count": 44,
   "id": "e80b7aaf",
   "metadata": {},
   "outputs": [
    {
     "name": "stdout",
     "output_type": "stream",
     "text": [
      "[33, 7, 72]\n"
     ]
    }
   ],
   "source": [
    "stack = Stack()\n",
    "\n",
    "stack.push(33)\n",
    "stack.push(7)\n",
    "stack.push(72)\n",
    "print(stack)"
   ]
  },
  {
   "cell_type": "code",
   "execution_count": 45,
   "id": "2b459539",
   "metadata": {},
   "outputs": [
    {
     "data": {
      "text/plain": [
       "72"
      ]
     },
     "execution_count": 45,
     "metadata": {},
     "output_type": "execute_result"
    }
   ],
   "source": [
    "stack.pop()"
   ]
  },
  {
   "cell_type": "code",
   "execution_count": 47,
   "id": "0b3891a8",
   "metadata": {},
   "outputs": [
    {
     "name": "stdout",
     "output_type": "stream",
     "text": [
      "7\n",
      "[33, 7]\n"
     ]
    }
   ],
   "source": [
    "print(stack.peek())\n",
    "print(stack)"
   ]
  },
  {
   "cell_type": "code",
   "execution_count": 48,
   "id": "381bb2d2",
   "metadata": {},
   "outputs": [],
   "source": [
    "stack.clear()"
   ]
  },
  {
   "cell_type": "code",
   "execution_count": 49,
   "id": "4d033057",
   "metadata": {},
   "outputs": [
    {
     "data": {
      "text/plain": [
       "True"
      ]
     },
     "execution_count": 49,
     "metadata": {},
     "output_type": "execute_result"
    }
   ],
   "source": [
    "stack.is_empty()"
   ]
  },
  {
   "cell_type": "code",
   "execution_count": null,
   "id": "f306b585",
   "metadata": {},
   "outputs": [],
   "source": []
  }
 ],
 "metadata": {
  "kernelspec": {
   "display_name": "Python 3 (ipykernel)",
   "language": "python",
   "name": "python3"
  },
  "language_info": {
   "codemirror_mode": {
    "name": "ipython",
    "version": 3
   },
   "file_extension": ".py",
   "mimetype": "text/x-python",
   "name": "python",
   "nbconvert_exporter": "python",
   "pygments_lexer": "ipython3",
   "version": "3.9.7"
  }
 },
 "nbformat": 4,
 "nbformat_minor": 5
}
