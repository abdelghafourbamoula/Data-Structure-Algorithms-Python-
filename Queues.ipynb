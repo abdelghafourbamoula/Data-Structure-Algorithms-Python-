{
 "cells": [
  {
   "cell_type": "markdown",
   "id": "5126596a",
   "metadata": {},
   "source": [
    "<center><h1>Queues</h1></center><br>\n",
    "\n",
    "A queue is similar to a stack, but defines a different way to add and remover elements.\n",
    "The elements are inserted from one end, called the **rear**, and deleted from the other end, called the **front**.\n",
    "This behavior is called **FIFO** (First in First Out).\n",
    "\n",
    "<br>\n",
    "\n",
    "**Terminology** <br>\n",
    "- The process of adding new elements into the queue is called **enqueue**. <br>\n",
    "- The process of removal of an element from the queue is called **dequeue**. <br>\n",
    "\n",
    "**Applications** <br>\n",
    "Queues are used whenever we need to manage objects in order starting with the first one in.\n",
    "Scenarios include printing documents on a printer, call center systems answering people on hold, and so on."
   ]
  },
  {
   "cell_type": "markdown",
   "id": "e166dc39",
   "metadata": {},
   "source": [
    "<img src=\"images/queue1.png\" width=\"80%\"/>"
   ]
  },
  {
   "cell_type": "markdown",
   "id": "4b4660f8",
   "metadata": {},
   "source": [
    "### python Deque"
   ]
  },
  {
   "cell_type": "code",
   "execution_count": 1,
   "id": "298f13a8",
   "metadata": {},
   "outputs": [
    {
     "name": "stdout",
     "output_type": "stream",
     "text": [
      "deque([3, 2, 22])\n",
      "3\n"
     ]
    }
   ],
   "source": [
    "from collections import deque\n",
    "\n",
    "my_queue = deque()\n",
    "my_queue.append(3)\n",
    "my_queue.append(2)\n",
    "my_queue.append(22)\n",
    "print(my_queue)\n",
    "print(my_queue.popleft())"
   ]
  },
  {
   "cell_type": "markdown",
   "id": "6aaf28ef",
   "metadata": {},
   "source": [
    "# class"
   ]
  },
  {
   "cell_type": "code",
   "execution_count": 2,
   "id": "eedef78d",
   "metadata": {},
   "outputs": [],
   "source": [
    "class Queue:\n",
    "    \n",
    "    def __init__(self):\n",
    "        self.items = []\n",
    "        \n",
    "    def __str__(self):\n",
    "        return str(self.items)\n",
    "    \n",
    "    def is_empty(self):\n",
    "        return self.items == []\n",
    "    \n",
    "    def enqueue(self,item):\n",
    "        self.items.insert(0,item)\n",
    "        \n",
    "    def dequeue(self):\n",
    "        return self.items.pop() if not self.is_empty() else None\n",
    "    \n",
    "    def get_size(self):\n",
    "        return len(self.items)\n",
    "    \n",
    "    def clear(self):\n",
    "        self.items.clear()"
   ]
  },
  {
   "cell_type": "code",
   "execution_count": 3,
   "id": "53d267ec",
   "metadata": {},
   "outputs": [
    {
     "name": "stdout",
     "output_type": "stream",
     "text": [
      "[44, 33, 22]\n"
     ]
    },
    {
     "data": {
      "text/plain": [
       "3"
      ]
     },
     "execution_count": 3,
     "metadata": {},
     "output_type": "execute_result"
    }
   ],
   "source": [
    "my_queue = Queue()\n",
    "my_queue.enqueue(22)\n",
    "my_queue.enqueue(33)\n",
    "my_queue.enqueue(44)\n",
    "print(my_queue)\n",
    "my_queue.get_size()"
   ]
  },
  {
   "cell_type": "code",
   "execution_count": 4,
   "id": "7e9f7146",
   "metadata": {},
   "outputs": [
    {
     "data": {
      "text/plain": [
       "22"
      ]
     },
     "execution_count": 4,
     "metadata": {},
     "output_type": "execute_result"
    }
   ],
   "source": [
    "my_queue.dequeue()"
   ]
  },
  {
   "cell_type": "code",
   "execution_count": 5,
   "id": "678255b9",
   "metadata": {},
   "outputs": [
    {
     "data": {
      "text/plain": [
       "True"
      ]
     },
     "execution_count": 5,
     "metadata": {},
     "output_type": "execute_result"
    }
   ],
   "source": [
    "my_queue.clear()\n",
    "my_queue.is_empty()"
   ]
  },
  {
   "cell_type": "code",
   "execution_count": null,
   "id": "759c2217",
   "metadata": {},
   "outputs": [],
   "source": []
  }
 ],
 "metadata": {
  "kernelspec": {
   "display_name": "Python 3 (ipykernel)",
   "language": "python",
   "name": "python3"
  },
  "language_info": {
   "codemirror_mode": {
    "name": "ipython",
    "version": 3
   },
   "file_extension": ".py",
   "mimetype": "text/x-python",
   "name": "python",
   "nbconvert_exporter": "python",
   "pygments_lexer": "ipython3",
   "version": "3.9.7"
  }
 },
 "nbformat": 4,
 "nbformat_minor": 5
}
